{
 "cells": [
  {
   "cell_type": "markdown",
   "metadata": {},
   "source": [
    "Adrián Arroyo Calle"
   ]
  },
  {
   "cell_type": "markdown",
   "metadata": {},
   "source": [
    "# Distancias atributos continuos"
   ]
  },
  {
   "cell_type": "code",
   "execution_count": 2,
   "metadata": {},
   "outputs": [],
   "source": [
    "import numpy as np\n",
    "\n",
    "X = np.array([2.1, 3.1, 3.4, 1.9])\n",
    "Y = np.array([1.2, 2.0, 1.7, 3.6])"
   ]
  },
  {
   "cell_type": "code",
   "execution_count": 3,
   "metadata": {},
   "outputs": [],
   "source": [
    "from scipy.spatial.distance import euclidean, mahalanobis, minkowski"
   ]
  },
  {
   "cell_type": "code",
   "execution_count": 5,
   "metadata": {},
   "outputs": [
    {
     "name": "stdout",
     "output_type": "stream",
     "text": [
      "Distancia euclídea 2.792848\n"
     ]
    }
   ],
   "source": [
    "d = euclidean(X, Y)\n",
    "print(\"Distancia euclídea %f\" % d)"
   ]
  },
  {
   "cell_type": "code",
   "execution_count": 6,
   "metadata": {},
   "outputs": [
    {
     "name": "stdout",
     "output_type": "stream",
     "text": [
      "Distancia Minkowski (P=1): 5.400000\n",
      "Distancia Minkowski (P=3): 2.282156\n"
     ]
    }
   ],
   "source": [
    "d = minkowski(X, Y, 1)\n",
    "print(\"Distancia Minkowski (P=1): %f\" % d)\n",
    "d = minkowski(X, Y, 3)\n",
    "print(\"Distancia Minkowski (P=3): %f\" % d)"
   ]
  },
  {
   "cell_type": "code",
   "execution_count": 7,
   "metadata": {},
   "outputs": [
    {
     "name": "stdout",
     "output_type": "stream",
     "text": [
      "Distanca Mahalanobis: 4.878524\n"
     ]
    }
   ],
   "source": [
    "cov = np.array([[2,0,0,0],[0,4,0,0],[0,0,4,0],[0,0,0,2]])\n",
    "d = mahalanobis(X, Y, cov)\n",
    "print(\"Distanca Mahalanobis: %f\" % d)"
   ]
  },
  {
   "cell_type": "markdown",
   "metadata": {},
   "source": [
    "# Distancia atributos binarios\n"
   ]
  },
  {
   "cell_type": "code",
   "execution_count": 8,
   "metadata": {},
   "outputs": [
    {
     "data": {
      "text/plain": [
       "array([[3, 3],\n",
       "       [1, 3]])"
      ]
     },
     "execution_count": 8,
     "metadata": {},
     "output_type": "execute_result"
    }
   ],
   "source": [
    "X = np.array([1,0,0,0,1,1,0,1,0,0])\n",
    "Y = np.array([0,0,1,0,1,1,1,1,0,1])\n",
    "\n",
    "from sklearn.metrics import confusion_matrix\n",
    "c = confusion_matrix(X, Y, labels=[0,1])\n",
    "c"
   ]
  },
  {
   "cell_type": "code",
   "execution_count": 12,
   "metadata": {},
   "outputs": [
    {
     "name": "stdout",
     "output_type": "stream",
     "text": [
      "Sokal-Michel: 0.600000\n",
      "Distancia equivalente: 0.632456\n"
     ]
    }
   ],
   "source": [
    "# Sokal-Michel\n",
    "s = (3+3)/(3+3+3+1)\n",
    "print(\"Sokal-Michel: %f\" % s)\n",
    "d = np.sqrt(1-s)\n",
    "print(\"Distancia equivalente: %f\" %d)"
   ]
  },
  {
   "cell_type": "code",
   "execution_count": 14,
   "metadata": {},
   "outputs": [
    {
     "name": "stdout",
     "output_type": "stream",
     "text": [
      "Jaccard: 0.428571\n",
      "Distancia equivalente: 0.755929\n"
     ]
    }
   ],
   "source": [
    "# Jaccard\n",
    "s = 3/(3+3+1)\n",
    "print(\"Jaccard: %f\" % s)\n",
    "d = np.sqrt(1-s)\n",
    "print(\"Distancia equivalente: %f\" % d)"
   ]
  },
  {
   "cell_type": "markdown",
   "metadata": {},
   "source": [
    "# Variables mixtas"
   ]
  },
  {
   "cell_type": "code",
   "execution_count": 18,
   "metadata": {},
   "outputs": [
    {
     "name": "stdout",
     "output_type": "stream",
     "text": [
      "Similaridad: 0.518605\n"
     ]
    }
   ],
   "source": [
    "p = 1-(abs(50.2-52.3)/(54.1-49.8)) + 1-(abs(2.9-3.7)/(4.6-2.6))\n",
    "s = (p+1+1)/(2+(2-0)+2)\n",
    "print(\"Similaridad: %f\" % s)"
   ]
  }
 ],
 "metadata": {
  "kernelspec": {
   "display_name": "Python 3",
   "language": "python",
   "name": "python3"
  },
  "language_info": {
   "codemirror_mode": {
    "name": "ipython",
    "version": 3
   },
   "file_extension": ".py",
   "mimetype": "text/x-python",
   "name": "python",
   "nbconvert_exporter": "python",
   "pygments_lexer": "ipython3",
   "version": "3.7.5"
  }
 },
 "nbformat": 4,
 "nbformat_minor": 2
}
