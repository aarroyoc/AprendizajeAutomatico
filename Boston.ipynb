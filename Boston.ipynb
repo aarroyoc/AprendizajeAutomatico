{
 "cells": [
  {
   "cell_type": "code",
   "execution_count": 1,
   "metadata": {},
   "outputs": [],
   "source": [
    "import numpy as np\n",
    "from sklearn.datasets import load_boston\n",
    "from sklearn.neural_network import MLPRegressor\n",
    "from sklearn.preprocessing import MinMaxScaler"
   ]
  },
  {
   "cell_type": "code",
   "execution_count": 2,
   "metadata": {},
   "outputs": [],
   "source": [
    "boston = load_boston()"
   ]
  },
  {
   "cell_type": "code",
   "execution_count": 3,
   "metadata": {},
   "outputs": [],
   "source": [
    "X = MinMaxScaler().fit(boston.data).transform(boston.data)"
   ]
  },
  {
   "cell_type": "code",
   "execution_count": 4,
   "metadata": {},
   "outputs": [],
   "source": [
    "Y = MinMaxScaler().fit(boston.target.reshape(-1,1)).transform(boston.target.reshape(-1,1))"
   ]
  },
  {
   "cell_type": "code",
   "execution_count": 5,
   "metadata": {},
   "outputs": [],
   "source": [
    "adaline = MLPRegressor(hidden_layer_sizes=[],solver=\"sgd\",alpha=0.1,batch_size=1,max_iter=5000,momentum=0,verbose=True)"
   ]
  },
  {
   "cell_type": "code",
   "execution_count": 6,
   "metadata": {},
   "outputs": [
    {
     "name": "stderr",
     "output_type": "stream",
     "text": [
      "/opt/anaconda3/lib/python3.6/site-packages/sklearn/neural_network/multilayer_perceptron.py:1306: DataConversionWarning: A column-vector y was passed when a 1d array was expected. Please change the shape of y to (n_samples, ), for example using ravel().\n",
      "  y = column_or_1d(y, warn=True)\n"
     ]
    },
    {
     "name": "stdout",
     "output_type": "stream",
     "text": [
      "Iteration 1, loss = 0.12056385\n",
      "Iteration 2, loss = 0.06030746\n",
      "Iteration 3, loss = 0.05284842\n",
      "Iteration 4, loss = 0.04748889\n",
      "Iteration 5, loss = 0.04300466\n",
      "Iteration 6, loss = 0.03919977\n",
      "Iteration 7, loss = 0.03595491\n",
      "Iteration 8, loss = 0.03316687\n",
      "Iteration 9, loss = 0.03075701\n",
      "Iteration 10, loss = 0.02864753\n",
      "Iteration 11, loss = 0.02682300\n",
      "Iteration 12, loss = 0.02522509\n",
      "Iteration 13, loss = 0.02383437\n",
      "Iteration 14, loss = 0.02260916\n",
      "Iteration 15, loss = 0.02152303\n",
      "Iteration 16, loss = 0.02056420\n",
      "Iteration 17, loss = 0.01975356\n",
      "Iteration 18, loss = 0.01901323\n",
      "Iteration 19, loss = 0.01836786\n",
      "Iteration 20, loss = 0.01779271\n",
      "Iteration 21, loss = 0.01727597\n",
      "Iteration 22, loss = 0.01684730\n",
      "Iteration 23, loss = 0.01644856\n",
      "Iteration 24, loss = 0.01610430\n",
      "Iteration 25, loss = 0.01579786\n",
      "Iteration 26, loss = 0.01550132\n",
      "Iteration 27, loss = 0.01528962\n",
      "Iteration 28, loss = 0.01507395\n",
      "Iteration 29, loss = 0.01487208\n",
      "Iteration 30, loss = 0.01471690\n",
      "Iteration 31, loss = 0.01456943\n",
      "Iteration 32, loss = 0.01442863\n",
      "Iteration 33, loss = 0.01430861\n",
      "Iteration 34, loss = 0.01418330\n",
      "Iteration 35, loss = 0.01412074\n",
      "Iteration 36, loss = 0.01402549\n",
      "Iteration 37, loss = 0.01396748\n",
      "Training loss did not improve more than tol=0.000100 for two consecutive epochs. Stopping.\n"
     ]
    },
    {
     "data": {
      "text/plain": [
       "MLPRegressor(activation='relu', alpha=0.1, batch_size=1, beta_1=0.9,\n",
       "       beta_2=0.999, early_stopping=False, epsilon=1e-08,\n",
       "       hidden_layer_sizes=[], learning_rate='constant',\n",
       "       learning_rate_init=0.001, max_iter=5000, momentum=0,\n",
       "       nesterovs_momentum=True, power_t=0.5, random_state=None,\n",
       "       shuffle=True, solver='sgd', tol=0.0001, validation_fraction=0.1,\n",
       "       verbose=True, warm_start=False)"
      ]
     },
     "execution_count": 6,
     "metadata": {},
     "output_type": "execute_result"
    }
   ],
   "source": [
    "adaline.fit(X,Y)"
   ]
  },
  {
   "cell_type": "code",
   "execution_count": null,
   "metadata": {},
   "outputs": [],
   "source": []
  }
 ],
 "metadata": {
  "kernelspec": {
   "display_name": "Python 3",
   "language": "python",
   "name": "python3"
  },
  "language_info": {
   "codemirror_mode": {
    "name": "ipython",
    "version": 3
   },
   "file_extension": ".py",
   "mimetype": "text/x-python",
   "name": "python",
   "nbconvert_exporter": "python",
   "pygments_lexer": "ipython3",
   "version": "3.6.4"
  }
 },
 "nbformat": 4,
 "nbformat_minor": 2
}
