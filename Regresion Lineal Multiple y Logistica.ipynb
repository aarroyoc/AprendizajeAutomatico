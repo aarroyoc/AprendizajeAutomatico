{
 "cells": [
  {
   "cell_type": "markdown",
   "metadata": {},
   "source": [
    "# Práctica Regresión Lineal, Múltiple y Logística\n",
    "\n",
    "Autor: Adrián Arroyo Calle\n",
    "\n",
    "\n"
   ]
  },
  {
   "cell_type": "markdown",
   "metadata": {},
   "source": [
    "Usando el conocido conjunto de datos IRIS, realice una clasificación mediante regresión lineal múltiple. Para ello, se destinará ⅔ de los datos escogidos aleatoriamente de manera estratificada para aprendizaje y, el resto, para verificación."
   ]
  },
  {
   "cell_type": "code",
   "execution_count": 42,
   "metadata": {},
   "outputs": [],
   "source": [
    "import numpy as np\n",
    "from sklearn.datasets import load_iris\n",
    "from sklearn.preprocessing import MinMaxScaler\n",
    "from sklearn.model_selection import train_test_split\n",
    "from sklearn.linear_model import LinearRegression, LogisticRegression\n",
    "\n",
    "from sklearn.metrics import confusion_matrix\n",
    "from sklearn.metrics import accuracy_score\n",
    "\n",
    "from sklearn.model_selection import StratifiedKFold"
   ]
  },
  {
   "cell_type": "markdown",
   "metadata": {},
   "source": [
    "Cargamos el dataset IRIS"
   ]
  },
  {
   "cell_type": "code",
   "execution_count": 43,
   "metadata": {},
   "outputs": [],
   "source": [
    "iris = load_iris(return_X_y=False)"
   ]
  },
  {
   "cell_type": "markdown",
   "metadata": {},
   "source": [
    "Normalizamos la entrada al rango `[0,1]`"
   ]
  },
  {
   "cell_type": "code",
   "execution_count": 44,
   "metadata": {},
   "outputs": [],
   "source": [
    "scaler = MinMaxScaler()\n",
    "scaled_iris_data = scaler.fit_transform(iris.data)"
   ]
  },
  {
   "cell_type": "markdown",
   "metadata": {},
   "source": [
    "Binarizamos las clases de salida, para usar varios regresores lineales"
   ]
  },
  {
   "cell_type": "code",
   "execution_count": 45,
   "metadata": {
    "scrolled": true
   },
   "outputs": [],
   "source": [
    "from sklearn.preprocessing import LabelBinarizer\n",
    "\n",
    "lb = LabelBinarizer()\n",
    "bin_iris_target = lb.fit_transform(iris.target)"
   ]
  },
  {
   "cell_type": "markdown",
   "metadata": {},
   "source": [
    "Hacemos la separación Holdout 33%, estratificada"
   ]
  },
  {
   "cell_type": "code",
   "execution_count": 46,
   "metadata": {},
   "outputs": [],
   "source": [
    "x_train,x_test,y_train,y_test = train_test_split(scaled_iris_data,bin_iris_target,test_size=0.33,stratify=bin_iris_target)"
   ]
  },
  {
   "cell_type": "code",
   "execution_count": 47,
   "metadata": {},
   "outputs": [
    {
     "data": {
      "text/plain": [
       "3"
      ]
     },
     "execution_count": 47,
     "metadata": {},
     "output_type": "execute_result"
    }
   ],
   "source": [
    "y_test.shape[1]"
   ]
  },
  {
   "cell_type": "code",
   "execution_count": 48,
   "metadata": {},
   "outputs": [],
   "source": [
    "y_predict = np.zeros(y_test.shape, dtype=float)\n",
    "for i in range(y_test.shape[1]):\n",
    "    reg = LinearRegression()\n",
    "    reg.fit(x_train,y_train[:,i])\n",
    "    y_predict[:,i] = reg.predict(x_test)"
   ]
  },
  {
   "cell_type": "markdown",
   "metadata": {},
   "source": [
    "Ahora con los datos de prueba analizamos con qué regresor se obtiene más probabilidad"
   ]
  },
  {
   "cell_type": "code",
   "execution_count": 49,
   "metadata": {},
   "outputs": [
    {
     "name": "stdout",
     "output_type": "stream",
     "text": [
      "Tasa de acierto 0.820000\n"
     ]
    }
   ],
   "source": [
    "score = np.sum(np.argmax(y_predict,axis=1) == np.argmax(y_test, axis=1))/y_test.shape[0]\n",
    "print(\"Tasa de acierto %f\" % score)"
   ]
  },
  {
   "cell_type": "markdown",
   "metadata": {},
   "source": [
    "Matriz de confusión"
   ]
  },
  {
   "cell_type": "code",
   "execution_count": 50,
   "metadata": {},
   "outputs": [
    {
     "data": {
      "text/plain": [
       "array([[16,  1,  0],\n",
       "       [ 0, 13,  4],\n",
       "       [ 0,  4, 12]])"
      ]
     },
     "execution_count": 50,
     "metadata": {},
     "output_type": "execute_result"
    }
   ],
   "source": [
    "s = accuracy_score(np.argmax(y_test,axis=1), np.argmax(y_predict, axis=1))\n",
    "m = confusion_matrix(np.argmax(y_test,axis=1), np.argmax(y_predict, axis=1))\n",
    "m"
   ]
  },
  {
   "cell_type": "markdown",
   "metadata": {},
   "source": [
    "Validación cruzada"
   ]
  },
  {
   "cell_type": "code",
   "execution_count": 51,
   "metadata": {},
   "outputs": [
    {
     "name": "stdout",
     "output_type": "stream",
     "text": [
      "Tasa de acierto: 0.826667\n"
     ]
    }
   ],
   "source": [
    "score = 0\n",
    "skf = StratifiedKFold(n_splits=10)\n",
    "for train_index, test_index in skf.split(scaled_iris_data,iris.target):\n",
    "    x_train, x_test = scaled_iris_data[train_index], scaled_iris_data[test_index]\n",
    "    y_train, y_test = bin_iris_target[train_index], bin_iris_target[test_index]\n",
    "    y_predict = np.zeros(y_test.shape,dtype=float)\n",
    "    for i in range(y_test.shape[1]):\n",
    "        reg = LinearRegression()\n",
    "        reg.fit(x_train,y_train[:,i])\n",
    "        y_predict[:,i] = reg.predict(x_test)\n",
    "    score += accuracy_score(np.argmax(y_test,axis=1), np.argmax(y_predict, axis=1))\n",
    "print(\"Tasa de acierto: %f\" % (score/10))"
   ]
  },
  {
   "cell_type": "markdown",
   "metadata": {},
   "source": [
    "Regresión logística"
   ]
  },
  {
   "cell_type": "markdown",
   "metadata": {},
   "source": [
    "Método holdout"
   ]
  },
  {
   "cell_type": "code",
   "execution_count": 52,
   "metadata": {},
   "outputs": [],
   "source": [
    "x_train,x_test,y_train,y_test = train_test_split(scaled_iris_data,iris.target,test_size=0.33,stratify=iris.target)"
   ]
  },
  {
   "cell_type": "code",
   "execution_count": 53,
   "metadata": {},
   "outputs": [
    {
     "name": "stdout",
     "output_type": "stream",
     "text": [
      "Score: 0.820000\n"
     ]
    }
   ],
   "source": [
    "y_predict = np.zeros(y_test.shape,dtype=float)\n",
    "clf = LogisticRegression()\n",
    "clf.fit(x_train,y_train)\n",
    "y_predict = clf.predict(x_test)\n",
    "score = accuracy_score(y_test, y_predict)\n",
    "print(\"Score: %f\" % score)"
   ]
  },
  {
   "cell_type": "code",
   "execution_count": 54,
   "metadata": {},
   "outputs": [
    {
     "data": {
      "text/plain": [
       "array([[17,  0,  0],\n",
       "       [ 0,  9,  7],\n",
       "       [ 0,  2, 15]])"
      ]
     },
     "execution_count": 54,
     "metadata": {},
     "output_type": "execute_result"
    }
   ],
   "source": [
    "m = confusion_matrix(y_test, y_predict)\n",
    "m"
   ]
  },
  {
   "cell_type": "markdown",
   "metadata": {},
   "source": [
    "Validación cruzada"
   ]
  },
  {
   "cell_type": "code",
   "execution_count": 55,
   "metadata": {},
   "outputs": [
    {
     "name": "stdout",
     "output_type": "stream",
     "text": [
      "Tasa de acierto: 0.840000\n"
     ]
    }
   ],
   "source": [
    "score = 0\n",
    "skf = StratifiedKFold(n_splits=10)\n",
    "for train_index, test_index in skf.split(scaled_iris_data,iris.target):\n",
    "    x_train, x_test = scaled_iris_data[train_index], scaled_iris_data[test_index]\n",
    "    y_train, y_test = iris.target[train_index], iris.target[test_index]\n",
    "    y_predict = np.zeros(y_test.shape,dtype=float)\n",
    "    reg = LogisticRegression()\n",
    "    reg.fit(x_train,y_train)\n",
    "    y_predict = reg.predict(x_test)\n",
    "    score += accuracy_score(y_test, y_predict)\n",
    "print(\"Tasa de acierto: %f\" % (score/10))"
   ]
  }
 ],
 "metadata": {
  "kernelspec": {
   "display_name": "Python 3",
   "language": "python",
   "name": "python3"
  },
  "language_info": {
   "codemirror_mode": {
    "name": "ipython",
    "version": 3
   },
   "file_extension": ".py",
   "mimetype": "text/x-python",
   "name": "python",
   "nbconvert_exporter": "python",
   "pygments_lexer": "ipython3",
   "version": "3.6.4"
  }
 },
 "nbformat": 4,
 "nbformat_minor": 2
}
