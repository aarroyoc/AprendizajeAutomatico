{
 "cells": [
  {
   "cell_type": "markdown",
   "metadata": {},
   "source": [
    "# DB Cluster"
   ]
  },
  {
   "cell_type": "code",
   "execution_count": 31,
   "metadata": {},
   "outputs": [],
   "source": [
    "import numpy as np\n",
    "import math\n",
    "import itertools"
   ]
  },
  {
   "cell_type": "code",
   "execution_count": 32,
   "metadata": {},
   "outputs": [],
   "source": [
    "D = np.array([\n",
    "    [0., 1., 3., 4., 7.],\n",
    "    [1., 0., 4., 4., 8.],\n",
    "    [3., 4., 0., 2., 8.],\n",
    "    [4., 4., 2., 0., 7.],\n",
    "    [7., 8., 8., 7., 0.]\n",
    "])"
   ]
  },
  {
   "cell_type": "code",
   "execution_count": 33,
   "metadata": {},
   "outputs": [],
   "source": [
    "def get_div(cluster):\n",
    "    for i in range(1, math.ceil((len(cluster)+1)/2)):\n",
    "        for cluster_1 in list(itertools.combinations(cluster, i)):\n",
    "            cluster_2 = [item for item in cluster if item not in cluster_1]\n",
    "            yield list(cluster_1), cluster_2"
   ]
  },
  {
   "cell_type": "code",
   "execution_count": 34,
   "metadata": {},
   "outputs": [],
   "source": [
    "def variabilidad(cluster):\n",
    "    s = 0\n",
    "    for i in cluster:\n",
    "        for j in cluster:\n",
    "            if j > i:\n",
    "                s += pow(D[i,j], 2)\n",
    "    return s/(2*(len(cluster)**2))\n",
    "                "
   ]
  },
  {
   "cell_type": "code",
   "execution_count": 35,
   "metadata": {},
   "outputs": [],
   "source": [
    "cluster = range(D.shape[0])\n",
    "def dbcluster(cluster):\n",
    "    if len(cluster) == 1:\n",
    "        return cluster\n",
    "    \n",
    "    vmin = None\n",
    "    prev = None\n",
    "    c1min = None\n",
    "    c2min = None\n",
    "    for c1,c2 in get_div(cluster):\n",
    "        v = variabilidad(c1)*len(c1)+variabilidad(c2)*len(c2)\n",
    "        if vmin == None or vmin > v:\n",
    "            vmin = v\n",
    "            prev = variabilidad(cluster)*len(cluster)\n",
    "            c1min = c1\n",
    "            c2min = c2\n",
    "    \n",
    "    return [prev, dbcluster(c1min), dbcluster(c2min)]    "
   ]
  },
  {
   "cell_type": "code",
   "execution_count": 36,
   "metadata": {},
   "outputs": [
    {
     "data": {
      "text/plain": [
       "[28.799999999999997, [4], [7.75, [0.25, [0], [1]], [1.0, [2], [3]]]]"
      ]
     },
     "execution_count": 36,
     "metadata": {},
     "output_type": "execute_result"
    }
   ],
   "source": [
    "Z = dbcluster(cluster)\n",
    "Z"
   ]
  },
  {
   "cell_type": "code",
   "execution_count": 37,
   "metadata": {},
   "outputs": [
    {
     "data": {
      "image/png": "[encoded data removed]",
      "text/plain": [
       "<Figure size 720x720 with 1 Axes>"
      ]
     },
     "metadata": {
      "needs_background": "light"
     },
     "output_type": "display_data"
    }
   ],
   "source": [
    "X = [\n",
    "    [2., 3., 1., 2.],\n",
    "    [0., 1., 0.25, 2.],\n",
    "    [5., 6., 7.75, 4.],\n",
    "    [7., 4., 28.79, 5.]\n",
    "]\n",
    "from scipy.cluster.hierarchy import dendrogram, linkage\n",
    "from matplotlib import pyplot as plt\n",
    "\n",
    "fig = plt.figure(figsize=(10, 10))\n",
    "dn = dendrogram(X)\n",
    "plt.show()"
   ]
  },
  {
   "cell_type": "markdown",
   "metadata": {},
   "source": [
    "# KMeans"
   ]
  },
  {
   "cell_type": "code",
   "execution_count": 39,
   "metadata": {},
   "outputs": [],
   "source": [
    "from sklearn.datasets import load_iris\n",
    "\n",
    "X, Y = load_iris(return_X_y=True)"
   ]
  },
  {
   "cell_type": "code",
   "execution_count": 40,
   "metadata": {},
   "outputs": [],
   "source": [
    "from sklearn.preprocessing import MinMaxScaler\n",
    "\n",
    "X = MinMaxScaler().fit_transform(X)"
   ]
  },
  {
   "cell_type": "code",
   "execution_count": 50,
   "metadata": {},
   "outputs": [
    {
     "name": "stdout",
     "output_type": "stream",
     "text": [
      "Score:  0.9733333333333334\n"
     ]
    }
   ],
   "source": [
    "from sklearn.cluster import KMeans\n",
    "from sklearn.pipeline import Pipeline\n",
    "from scipy import stats\n",
    "\n",
    "k = 6\n",
    "l = 9\n",
    "kmeans = KMeans(n_clusters=k+l, random_state=0)\n",
    "kmeans.fit(X)\n",
    "Y_labels = kmeans.predict(X)\n",
    "\n",
    "Y_predict = np.zeros(Y.shape)\n",
    "\n",
    "for cluster in range(k+l):\n",
    "    cluster_index = np.argwhere(Y_labels==cluster)\n",
    "    Y_predict_mode = stats.mode(Y[cluster_index])[0][0][0] # la clase que predice el cluster\n",
    "    Y_predict[cluster_index] = Y_predict_mode\n",
    "\n",
    "from sklearn.cluster import AgglomerativeClustering\n",
    "ward = AgglomerativeClustering(linkage=\"ward\", n_clusters=k)\n",
    "Z_labels = ward.fit_predict(Y_predict.reshape(-1, 1))\n",
    "\n",
    "ok = 0\n",
    "total = 0\n",
    "for cluster in range(k):\n",
    "    cluster_index = np.argwhere(Z_labels==cluster)\n",
    "    Z_predict = stats.mode(Y_predict[cluster_index])[0][0][0]\n",
    "    ok += np.sum(Y[cluster_index] == Z_predict) # los elementos cuya del cluster cuya clase coincide la predicha\n",
    "    total += len(Y[cluster_index])\n",
    "print(\"Score: \", ok/total)"
   ]
  },
  {
   "cell_type": "code",
   "execution_count": null,
   "metadata": {},
   "outputs": [],
   "source": []
  }
 ],
 "metadata": {
  "kernelspec": {
   "display_name": "Python 3",
   "language": "python",
   "name": "python3"
  },
  "language_info": {
   "codemirror_mode": {
    "name": "ipython",
    "version": 3
   },
   "file_extension": ".py",
   "mimetype": "text/x-python",
   "name": "python",
   "nbconvert_exporter": "python",
   "pygments_lexer": "ipython3",
   "version": "3.7.5"
  }
 },
 "nbformat": 4,
 "nbformat_minor": 2
}
