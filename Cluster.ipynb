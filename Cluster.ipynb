{
 "cells": [
  {
   "cell_type": "code",
   "execution_count": 1,
   "metadata": {},
   "outputs": [],
   "source": [
    "import numpy as np\n",
    "from sklearn.datasets import load_iris\n",
    "\n",
    "X, Y = load_iris(return_X_y=True)"
   ]
  },
  {
   "cell_type": "code",
   "execution_count": 2,
   "metadata": {},
   "outputs": [],
   "source": [
    "from sklearn.preprocessing import MinMaxScaler\n",
    "\n",
    "X = MinMaxScaler().fit_transform(X)"
   ]
  },
  {
   "cell_type": "code",
   "execution_count": 50,
   "metadata": {},
   "outputs": [
    {
     "name": "stdout",
     "output_type": "stream",
     "text": [
      "Cluster: 3\tScore: 0.886667\n",
      "Cluster: 4\tScore: 0.886667\n",
      "Cluster: 5\tScore: 0.880000\n",
      "Cluster: 6\tScore: 0.893333\n",
      "Cluster: 7\tScore: 0.966667\n",
      "Cluster: 8\tScore: 0.973333\n",
      "Cluster: 9\tScore: 0.966667\n",
      "Cluster: 10\tScore: 0.960000\n"
     ]
    }
   ],
   "source": [
    "from sklearn.model_selection import StratifiedKFold\n",
    "from sklearn.cluster import KMeans\n",
    "from scipy import stats\n",
    "from sklearn.metrics import accuracy_score\n",
    "\n",
    "for clusters in range(3,11):\n",
    "    xv = StratifiedKFold(n_splits=10, random_state=0)\n",
    "    score = 0\n",
    "    for train_index, test_index in xv.split(X, Y):\n",
    "        kmeans = KMeans(n_clusters=clusters, random_state=0)\n",
    "        kmeans.fit(X[train_index])\n",
    "        Y_labels = kmeans.predict(X[test_index])\n",
    "        ok = 0\n",
    "        total = 0\n",
    "        for cluster in range(clusters):\n",
    "            cluster_index = np.argwhere(Y_labels==cluster)\n",
    "            try:\n",
    "                Y_predict = stats.mode(Y[test_index][cluster_index])[0][0][0] # la clase que predice el cluster\n",
    "            except:\n",
    "                continue\n",
    "            ok += np.sum(Y[test_index][cluster_index] == Y_predict) # los elementos cuya del cluster cuya clase coincide la predicha\n",
    "            total += len(Y[test_index][cluster_index])\n",
    "        score += ok/total\n",
    "    print(\"Cluster: %d\\tScore: %f\" % (clusters, score/10))\n",
    "\n",
    "    \n",
    "    \n",
    "    "
   ]
  },
  {
   "cell_type": "code",
   "execution_count": null,
   "metadata": {},
   "outputs": [],
   "source": []
  }
 ],
 "metadata": {
  "kernelspec": {
   "display_name": "Python 3",
   "language": "python",
   "name": "python3"
  },
  "language_info": {
   "codemirror_mode": {
    "name": "ipython",
    "version": 3
   },
   "file_extension": ".py",
   "mimetype": "text/x-python",
   "name": "python",
   "nbconvert_exporter": "python",
   "pygments_lexer": "ipython3",
   "version": "3.7.5"
  }
 },
 "nbformat": 4,
 "nbformat_minor": 2
}
