{
 "cells": [
  {
   "cell_type": "markdown",
   "metadata": {},
   "source": [
    "KNN 59\n",
    "======\n",
    "\n",
    "Adrián Arroyo Calle - TAA Marzo 2019\n",
    "\n",
    "\n",
    "\n",
    "\n",
    "En esta entrega tenemos un conjunto de datos formado por imágenes en escala de grises que representan cincos y nueves de forma manuscrita. Usando estos datos analizaremos el comportamiento del clasificador perezoso K-NN, tratando de encontrar el K óptimo. Para ello se usa Python con el módulo sklearn.neighbors."
   ]
  },
  {
   "cell_type": "code",
   "execution_count": 1,
   "metadata": {},
   "outputs": [],
   "source": [
    "import pandas as pd\n",
    "import numpy as np\n",
    "from sklearn.neighbors import KNeighborsClassifier\n",
    "from sklearn.model_selection import KFold"
   ]
  },
  {
   "cell_type": "code",
   "execution_count": 2,
   "metadata": {},
   "outputs": [],
   "source": [
    "entrenae = pd.read_csv(\"entrenae59.csv\")\n",
    "entrenae_x = entrenae.drop(\"digito\",axis=1)\n",
    "entrenae_y = entrenae[\"digito\"]"
   ]
  },
  {
   "cell_type": "code",
   "execution_count": 3,
   "metadata": {},
   "outputs": [],
   "source": [
    "pruebae = pd.read_csv(\"pruebae59.csv\")\n",
    "pruebae_x = pruebae.drop(\"digito\",axis=1)\n",
    "pruebae_y = pruebae[\"digito\"]"
   ]
  },
  {
   "cell_type": "code",
   "execution_count": 4,
   "metadata": {},
   "outputs": [
    {
     "name": "stdout",
     "output_type": "stream",
     "text": [
      "K=1 Tasa acierto: 0.901180\n",
      "K=3 Tasa acierto: 0.901938\n",
      "K=5 Tasa acierto: 0.964698\n",
      "K=7 Tasa acierto: 0.963922\n",
      "K=9 Tasa acierto: 0.960857\n"
     ]
    }
   ],
   "source": [
    "res = dict()\n",
    "cv = KFold(10)\n",
    "for k in range(1,11,2):\n",
    "    c = KNeighborsClassifier(n_neighbors=k)\n",
    "    i = 0\n",
    "    acumula = 0\n",
    "    cv_iter = cv.split(entrenae_x,entrenae_y)\n",
    "    for train, test in cv_iter:\n",
    "        c.fit(entrenae_x.iloc[train],entrenae_y.iloc[train])\n",
    "        aciertos = c.score(entrenae_x.iloc[test],entrenae_y.iloc[test])\n",
    "        i += 1\n",
    "        acumula += aciertos\n",
    "    print(\"K=%d Tasa acierto: %f\" % (k,acumula/i))"
   ]
  },
  {
   "cell_type": "code",
   "execution_count": 5,
   "metadata": {},
   "outputs": [
    {
     "data": {
      "text/plain": [
       "{1: 0.8950617283950617,\n",
       " 3: 0.8950617283950617,\n",
       " 5: 0.8966049382716049,\n",
       " 7: 0.8935185185185185,\n",
       " 9: 0.8935185185185185}"
      ]
     },
     "execution_count": 5,
     "metadata": {},
     "output_type": "execute_result"
    }
   ],
   "source": [
    "res = dict()\n",
    "for k in range(1,11,2):\n",
    "    c = KNeighborsClassifier(n_neighbors=k)\n",
    "    c.fit(entrenae_x,entrenae_y)\n",
    "    res[k] = c.score(pruebae_x,pruebae_y)\n",
    "res"
   ]
  },
  {
   "cell_type": "code",
   "execution_count": 8,
   "metadata": {},
   "outputs": [
    {
     "data": {
      "text/plain": [
       "0.011960875193690374"
      ]
     },
     "execution_count": 8,
     "metadata": {},
     "output_type": "execute_result"
    }
   ],
   "source": [
    "import math\n",
    "math.sqrt((res[5]*(1-res[5]))/pruebae_y.shape[0])"
   ]
  },
  {
   "cell_type": "markdown",
   "metadata": {},
   "source": [
    "En ambos casos se obtiene que el K óptimo es 5.\n",
    "\n",
    "Su tasa de error con el conjunto de entrenamiento es 0.8966 con una desviación estándar de 0.0119"
   ]
  }
 ],
 "metadata": {
  "kernelspec": {
   "display_name": "Python 3",
   "language": "python",
   "name": "python3"
  },
  "language_info": {
   "codemirror_mode": {
    "name": "ipython",
    "version": 3
   },
   "file_extension": ".py",
   "mimetype": "text/x-python",
   "name": "python",
   "nbconvert_exporter": "python",
   "pygments_lexer": "ipython3",
   "version": "3.7.2+"
  }
 },
 "nbformat": 4,
 "nbformat_minor": 2
}
