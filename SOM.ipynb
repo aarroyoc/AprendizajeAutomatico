{
 "cells": [
  {
   "cell_type": "code",
   "execution_count": 13,
   "metadata": {
    "colab": {},
    "colab_type": "code",
    "id": "p8-I7pnopY9L"
   },
   "outputs": [],
   "source": [
    "from sklearn.datasets import load_iris, fetch_openml\n",
    "from sklearn.preprocessing import MinMaxScaler, normalize\n",
    "from sklearn.model_selection import train_test_split\n",
    "from scipy.spatial.distance import minkowski, cosine\n",
    "from sklearn.metrics import accuracy_score\n",
    "from collections import Counter\n",
    "import numpy as np\n",
    "import math\n",
    "import random"
   ]
  },
  {
   "cell_type": "code",
   "execution_count": 14,
   "metadata": {
    "colab": {},
    "colab_type": "code",
    "id": "MUEMnD1lpY9Z"
   },
   "outputs": [],
   "source": [
    "X, Y = load_iris(return_X_y=True)\n",
    "X = MinMaxScaler().fit_transform(X)"
   ]
  },
  {
   "cell_type": "code",
   "execution_count": 15,
   "metadata": {
    "colab": {},
    "colab_type": "code",
    "id": "9qcHMOROpY9i"
   },
   "outputs": [],
   "source": [
    "class Neuron:\n",
    "    def __init__(self, size, x, y):\n",
    "        self.weight = np.array([random.uniform(-1, 1) for i in range(size)]).reshape(1,-1)\n",
    "        self.x = x\n",
    "        self.y = y\n",
    "        self.label = None\n",
    "        self.wins = Counter()\n",
    "        self.active = True\n",
    "\n",
    "    def predict(self, data):\n",
    "        return cosine(data, self.weight)\n",
    "\n",
    "class SOM:\n",
    "    def __init__(self, rows, columns, size):\n",
    "        self.network = list()\n",
    "        for i in range(rows):\n",
    "            for j in range(columns):\n",
    "                self.network.append(Neuron(size=size, x=i, y=j))\n",
    "                \n",
    "    def fit(self, X, epochs, radius, alpha0):\n",
    "        alpha = alpha0\n",
    "        for t in range(epochs):\n",
    "            D = np.copy(X)\n",
    "            np.random.shuffle(D)\n",
    "            for data in D:\n",
    "                l = map(lambda x: x.predict(data), self.network)\n",
    "                l = list(l)\n",
    "                winner = self.network[np.argmax(l)]\n",
    "                for neuron in self.network:\n",
    "                    if winner.x-radius < neuron.x < winner.x+radius and winner.y-radius < neuron.y < winner.y+radius:\n",
    "                        #p = neuron.weight+alpha*data\n",
    "                        #neuron.weight = p/np.linalg.norm(p)\n",
    "                        #neuron.weight += normalize(alpha*(data-neuron.weight), norm=\"max\")\n",
    "                        neuron.weight += alpha*(data-neuron.weight)\n",
    "            radius -= 1\n",
    "            if radius == -1:\n",
    "                radius == 0\n",
    "            alpha = alpha0 / (1+(t/len(D)))\n",
    "    def neuron_labeling(self, X, Y):\n",
    "        for neuron in self.network:\n",
    "            l = map(neuron.predict, X)\n",
    "            l = list(l)\n",
    "            neuron.label = Y[np.argmax(l)]\n",
    "            \n",
    "    def mode_labeling(self, X, Y):\n",
    "        for i, instance in enumerate(X):\n",
    "            l = map(lambda x: x.predict(instance), filter(lambda x: x.active, self.network))\n",
    "            l = list(l)\n",
    "            winner = self.network[np.argmax(l)]\n",
    "            winner.wins[Y[i]] += 1\n",
    "            winner.label = winner.wins.most_common()[0][0]\n",
    "            if len(winner.wins.keys()) > 1:\n",
    "                winner.active = True\n",
    "            \n",
    "            \n",
    "    def predict(self, X):\n",
    "        output = np.zeros((X.shape[0],))\n",
    "        for i,instance in enumerate(X):\n",
    "            l = map(lambda x: x.predict(instance), filter(lambda x: x.active, self.network))\n",
    "            l = list(l)\n",
    "            output[i] = self.network[np.argmax(l)].label\n",
    "        return output\n",
    "            "
   ]
  },
  {
   "cell_type": "code",
   "execution_count": 16,
   "metadata": {
    "colab": {},
    "colab_type": "code",
    "id": "FVTVAH-mpY9p"
   },
   "outputs": [],
   "source": [
    "X_train, X_test, Y_train, Y_test= train_test_split(X, Y, test_size=0.33, random_state=0, stratify=Y)"
   ]
  },
  {
   "cell_type": "code",
   "execution_count": 17,
   "metadata": {
    "colab": {},
    "colab_type": "code",
    "id": "_Y4kuA-2pY9u"
   },
   "outputs": [],
   "source": [
    "som = SOM(12, 8, 4)\n",
    "som.fit(X_train, 100, 4, 0.5)\n",
    "som.mode_labeling(X_train, Y_train)\n",
    "Y_predict = som.predict(X_test)"
   ]
  },
  {
   "cell_type": "code",
   "execution_count": 18,
   "metadata": {
    "colab": {
     "base_uri": "https://localhost:8080/",
     "height": 34
    },
    "colab_type": "code",
    "id": "I6Jh_xncpY90",
    "outputId": "971becf7-c26b-4160-af65-196b29909963",
    "scrolled": true
   },
   "outputs": [
    {
     "data": {
      "text/plain": [
       "0.82"
      ]
     },
     "execution_count": 18,
     "metadata": {},
     "output_type": "execute_result"
    }
   ],
   "source": [
    "np.sum(Y_predict == Y_test)/Y_test.shape[0]"
   ]
  },
  {
   "cell_type": "code",
   "execution_count": 19,
   "metadata": {
    "colab": {},
    "colab_type": "code",
    "id": "HbQeUhYlpY97"
   },
   "outputs": [],
   "source": [
    "# MNIST\n",
    "X, Y = fetch_openml(\"mnist_784\", return_X_y=True)\n",
    "X = MinMaxScaler().fit_transform(X)"
   ]
  },
  {
   "cell_type": "code",
   "execution_count": 20,
   "metadata": {
    "colab": {},
    "colab_type": "code",
    "id": "QOX8zP7kpY9_"
   },
   "outputs": [],
   "source": [
    "X_train, X_test, Y_train, Y_test = train_test_split(X, Y, test_size=10000, random_state=0, stratify=Y)"
   ]
  },
  {
   "cell_type": "code",
   "execution_count": null,
   "metadata": {
    "colab": {
     "base_uri": "https://localhost:8080/",
     "height": 52
    },
    "colab_type": "code",
    "id": "Iu3Z-a5cpY-F",
    "outputId": "f3542f3a-ff29-43e5-d37a-72cfc0a036f1"
   },
   "outputs": [],
   "source": [
    "som = SOM(12, 8, 784)\n",
    "som.fit(X_train, 10, 4, 0.5)\n",
    "som.mode_labeling(X_train, Y_train)\n",
    "Y_predict = som.predict(X_test)\n",
    "print(accuracy_score(Y_predict, Y_test, normalize=True))\n",
    "som = SOM(12, 8, 784)\n",
    "som.fit(X_train, 10, 4, 0.5)\n",
    "som.neuron_labeling(X_train, Y_train)\n",
    "Y_predict = som.predict(X_test)\n",
    "print(accuracy_score(Y_predict, Y_test, normalize=True))"
   ]
  },
  {
   "cell_type": "markdown",
   "metadata": {
    "colab_type": "text",
    "id": "UVzQz6rbQGEN"
   },
   "source": [
    "Los resultados con Iris dan un 25% de acierto"
   ]
  }
 ],
 "metadata": {
  "colab": {
   "name": "SOM.ipynb",
   "provenance": []
  },
  "kernelspec": {
   "display_name": "Python 3",
   "language": "python",
   "name": "python3"
  },
  "language_info": {
   "codemirror_mode": {
    "name": "ipython",
    "version": 3
   },
   "file_extension": ".py",
   "mimetype": "text/x-python",
   "name": "python",
   "nbconvert_exporter": "python",
   "pygments_lexer": "ipython3",
   "version": "3.7.5"
  }
 },
 "nbformat": 4,
 "nbformat_minor": 1
}
