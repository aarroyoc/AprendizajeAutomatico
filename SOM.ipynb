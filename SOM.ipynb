{
 "cells": [
  {
   "cell_type": "code",
   "execution_count": 8,
   "metadata": {},
   "outputs": [],
   "source": [
    "from sklearn.datasets import load_iris\n",
    "from sklearn.preprocessing import MinMaxScaler\n",
    "import numpy as np"
   ]
  },
  {
   "cell_type": "code",
   "execution_count": 9,
   "metadata": {},
   "outputs": [],
   "source": [
    "X, Y = load_iris(return_X_y=True)\n",
    "X = MinMaxScaler().fit_transform(X)"
   ]
  },
  {
   "cell_type": "code",
   "execution_count": 18,
   "metadata": {},
   "outputs": [],
   "source": [
    "class Neuron:\n",
    "    def __init__(self, size, x, y):\n",
    "        self.weight = np.random.rand(1,4)\n",
    "        self.x = x\n",
    "        self.y = y\n",
    "\n",
    "    def predict(self, data):\n",
    "        np.cos(data, self.weight)\n",
    "\n",
    "class SOM:\n",
    "    def __init__(self, rows, columns, size):\n",
    "        self.network = list()\n",
    "        for i in range(rows):\n",
    "            for j in range(columns):\n",
    "                self.network.append(Neuron(size=size, x=i, y=j))\n",
    "                \n",
    "    def fit(self, X, epochs, radius, alpha):\n",
    "        for _ in range(epochs):\n",
    "            for data in X:\n",
    "                m = 0\n",
    "                winner = None\n",
    "                for neuron in self.network:\n",
    "                    n = neuron.predict(data)\n",
    "                    if n > m:\n",
    "                        n = m\n",
    "                        winner = neuron\n",
    "                for neuron in self.network:\n",
    "                    if self.winner.x-radius < self.neuron.x < self.winner.x+radius and self.winner.y-radius < self.neuron.y < self.winner.y+radius:\n",
    "                        p = neuron.weight+alpha*data\n",
    "                        neuron.weight = (neuron.weight+alpha*data)/()"
   ]
  },
  {
   "cell_type": "code",
   "execution_count": 19,
   "metadata": {},
   "outputs": [],
   "source": [
    "som = SOM(6, 3, 4)\n",
    "som.fit(X, 10, 4, 20)"
   ]
  }
 ],
 "metadata": {
  "kernelspec": {
   "display_name": "Python 3",
   "language": "python",
   "name": "python3"
  },
  "language_info": {
   "codemirror_mode": {
    "name": "ipython",
    "version": 3
   },
   "file_extension": ".py",
   "mimetype": "text/x-python",
   "name": "python",
   "nbconvert_exporter": "python",
   "pygments_lexer": "ipython3",
   "version": "3.6.4"
  }
 },
 "nbformat": 4,
 "nbformat_minor": 2
}
