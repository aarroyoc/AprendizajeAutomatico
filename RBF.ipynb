{
 "cells": [
  {
   "cell_type": "code",
   "execution_count": 2,
   "metadata": {},
   "outputs": [],
   "source": [
    "import numpy as np\n",
    "from pandas import DataFrame, read_csv\n",
    "from sklearn.model_selection import train_test_split\n",
    "from sklearn.preprocessing import minmax_scale"
   ]
  },
  {
   "cell_type": "code",
   "execution_count": 4,
   "metadata": {},
   "outputs": [],
   "source": [
    "datos = read_csv(\"https://archive.ics.uci.edu/ml/machine-learning-databases/wine/wine.data\",header=None)"
   ]
  },
  {
   "cell_type": "code",
   "execution_count": 8,
   "metadata": {},
   "outputs": [],
   "source": [
    "X = minmax_scale(datos.iloc[:,1:])\n",
    "Y = np.array(datos.iloc[:,0])"
   ]
  },
  {
   "cell_type": "code",
   "execution_count": 11,
   "metadata": {},
   "outputs": [
    {
     "data": {
      "text/plain": [
       "(numpy.ndarray, numpy.ndarray, (178, 13), (178,))"
      ]
     },
     "execution_count": 11,
     "metadata": {},
     "output_type": "execute_result"
    }
   ],
   "source": [
    "type(X),type(Y),X.shape,Y.shape"
   ]
  },
  {
   "cell_type": "code",
   "execution_count": 12,
   "metadata": {},
   "outputs": [],
   "source": [
    "X_train, X_test, Y_train, Y_test = train_test_split(X,Y,test_size=1/3,stratify=Y,random_state=0)"
   ]
  },
  {
   "cell_type": "code",
   "execution_count": 13,
   "metadata": {},
   "outputs": [],
   "source": [
    "from sklearn.cluster import KMeans\n",
    "kmedias = KMeans(n_clusters=6).fit(X_train)\n",
    "centros = kmedias.cluster_centers_"
   ]
  },
  {
   "cell_type": "code",
   "execution_count": 14,
   "metadata": {},
   "outputs": [
    {
     "data": {
      "text/plain": [
       "array([[0.33216374, 0.63658322, 0.55496138, 0.58476518, 0.28743961,\n",
       "        0.59923372, 0.52344116, 0.44025157, 0.56642131, 0.15822905,\n",
       "        0.35953026, 0.66992267, 0.14098906],\n",
       "       [0.30797697, 0.16606966, 0.48128342, 0.51449742, 0.24592391,\n",
       "        0.39881466, 0.34236551, 0.40625   , 0.37569006, 0.14193153,\n",
       "        0.46392276, 0.59375   , 0.16614658],\n",
       "       [0.77539474, 0.22401186, 0.57647059, 0.31649485, 0.37880435,\n",
       "        0.69465517, 0.62004219, 0.26886792, 0.57413249, 0.44001706,\n",
       "        0.50406504, 0.63461538, 0.70139087],\n",
       "       [0.50626566, 0.45586298, 0.52126305, 0.48576338, 0.28416149,\n",
       "        0.23809524, 0.09694595, 0.71069182, 0.17425267, 0.31244921,\n",
       "        0.25783972, 0.18367347, 0.22124856],\n",
       "       [0.63634868, 0.5444664 , 0.59959893, 0.57313144, 0.31725543,\n",
       "        0.28340517, 0.1119462 , 0.60966981, 0.32492114, 0.71096416,\n",
       "        0.10670732, 0.14010989, 0.25953994],\n",
       "       [0.65223684, 0.21610672, 0.5868984 , 0.39871134, 0.39130435,\n",
       "        0.6012069 , 0.50685654, 0.35283019, 0.41514196, 0.29035836,\n",
       "        0.49065041, 0.69230769, 0.51776034]])"
      ]
     },
     "execution_count": 14,
     "metadata": {},
     "output_type": "execute_result"
    }
   ],
   "source": [
    "centros"
   ]
  },
  {
   "cell_type": "markdown",
   "metadata": {},
   "source": [
    "# Matriz de distancias - SIGMA"
   ]
  },
  {
   "cell_type": "code",
   "execution_count": 15,
   "metadata": {},
   "outputs": [],
   "source": [
    "from sklearn.metrics.pairwise import euclidean_distances\n",
    "distancias = euclidean_distances(centros)\n",
    "sigma = sum(distancias)/(centros.shape[0]-1)"
   ]
  },
  {
   "cell_type": "code",
   "execution_count": 16,
   "metadata": {},
   "outputs": [
    {
     "data": {
      "text/plain": [
       "array([0.85810088, 0.79314121, 0.94171946, 0.88927048, 0.97776535,\n",
       "       0.76089675])"
      ]
     },
     "execution_count": 16,
     "metadata": {},
     "output_type": "execute_result"
    }
   ],
   "source": [
    "sigma"
   ]
  },
  {
   "cell_type": "markdown",
   "metadata": {},
   "source": [
    "# Salida capa OCULTA datos entrenamiento"
   ]
  },
  {
   "cell_type": "code",
   "execution_count": 17,
   "metadata": {},
   "outputs": [],
   "source": [
    "X_mlp_train = np.zeros((X_train.shape[0], centros.shape[0]), dtype=float)\n",
    "for i in range(X_train.shape[0]):\n",
    "    for j in range(centros.shape[0]):\n",
    "        X_mlp_train[i][j] = np.exp(-sum((X_train[i]-centros[j])**2)/(2.0*(sigma[j]**2)))"
   ]
  },
  {
   "cell_type": "markdown",
   "metadata": {},
   "source": [
    "# Salida capa OCULTA datos test"
   ]
  },
  {
   "cell_type": "code",
   "execution_count": 18,
   "metadata": {},
   "outputs": [],
   "source": [
    "X_mlp_test = np.zeros((X_test.shape[0], centros.shape[0]), dtype=float)\n",
    "for i in range(X_test.shape[0]):\n",
    "    for j in range(centros.shape[0]):\n",
    "        X_mlp_test[i][j] = np.exp(-sum((X_test[i]-centros[j])**2)/(2.0*(sigma[j]**2)))"
   ]
  },
  {
   "cell_type": "markdown",
   "metadata": {},
   "source": [
    "# Binarización de las salidas"
   ]
  },
  {
   "cell_type": "code",
   "execution_count": 19,
   "metadata": {},
   "outputs": [
    {
     "data": {
      "text/plain": [
       "LabelBinarizer(neg_label=0, pos_label=1, sparse_output=False)"
      ]
     },
     "execution_count": 19,
     "metadata": {},
     "output_type": "execute_result"
    }
   ],
   "source": [
    "from sklearn.preprocessing import LabelBinarizer\n",
    "etiquetas = LabelBinarizer()\n",
    "etiquetas.fit([1,2,3])"
   ]
  },
  {
   "cell_type": "code",
   "execution_count": 20,
   "metadata": {},
   "outputs": [],
   "source": [
    "Ymlp = etiquetas.transform(Y)\n",
    "Y_mlp_train = etiquetas.transform(Y_train)\n",
    "Y_mlp_test = etiquetas.transform(Y_test)"
   ]
  },
  {
   "cell_type": "code",
   "execution_count": 21,
   "metadata": {},
   "outputs": [
    {
     "data": {
      "text/plain": [
       "((118, 6), (60, 6), (118, 3), (60, 3))"
      ]
     },
     "execution_count": 21,
     "metadata": {},
     "output_type": "execute_result"
    }
   ],
   "source": [
    "X_mlp_train.shape, X_mlp_test.shape, Y_mlp_train.shape, Y_mlp_test.shape"
   ]
  },
  {
   "cell_type": "markdown",
   "metadata": {},
   "source": [
    "# Adaline con SGD"
   ]
  },
  {
   "cell_type": "code",
   "execution_count": 23,
   "metadata": {},
   "outputs": [],
   "source": [
    "from sklearn.linear_model import SGDRegressor\n",
    "adaline = SGDRegressor(max_iter=5000)"
   ]
  },
  {
   "cell_type": "code",
   "execution_count": 24,
   "metadata": {},
   "outputs": [],
   "source": [
    "Yp_test = np.zeros((Y_test.shape[0],3))"
   ]
  },
  {
   "cell_type": "code",
   "execution_count": 25,
   "metadata": {},
   "outputs": [],
   "source": [
    "for neurona_salida in range(3):\n",
    "    adaline.fit(X_mlp_train,Y_mlp_train[:,neurona_salida])\n",
    "    Yp_test[:,neurona_salida] = adaline.predict(X_mlp_test)"
   ]
  },
  {
   "cell_type": "code",
   "execution_count": 26,
   "metadata": {},
   "outputs": [],
   "source": [
    "aciertos = sum(np.argmax(Yp_test, axis=1) == np.argmax(Y_mlp_test,axis=1)) / Y_mlp_test.shape[0]"
   ]
  },
  {
   "cell_type": "code",
   "execution_count": 27,
   "metadata": {},
   "outputs": [
    {
     "name": "stdout",
     "output_type": "stream",
     "text": [
      "Tasa de aciertos = 100.0 %\n"
     ]
    }
   ],
   "source": [
    "print(\"Tasa de aciertos =\",aciertos*100, \"%\")"
   ]
  }
 ],
 "metadata": {
  "kernelspec": {
   "display_name": "Python 3",
   "language": "python",
   "name": "python3"
  },
  "language_info": {
   "codemirror_mode": {
    "name": "ipython",
    "version": 3
   },
   "file_extension": ".py",
   "mimetype": "text/x-python",
   "name": "python",
   "nbconvert_exporter": "python",
   "pygments_lexer": "ipython3",
   "version": "3.6.4"
  }
 },
 "nbformat": 4,
 "nbformat_minor": 2
}
