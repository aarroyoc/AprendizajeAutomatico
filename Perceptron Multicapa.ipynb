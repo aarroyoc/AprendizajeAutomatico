{
 "cells": [
  {
   "cell_type": "markdown",
   "metadata": {},
   "source": [
    "# Perceptrón Multicapa\n",
    "\n",
    "## Computer Hardware"
   ]
  },
  {
   "cell_type": "code",
   "execution_count": 1,
   "metadata": {},
   "outputs": [],
   "source": [
    "import numpy as np\n",
    "import pandas as pd\n",
    "from sklearn.preprocessing import MinMaxScaler\n",
    "from sklearn.model_selection import train_test_split"
   ]
  },
  {
   "cell_type": "code",
   "execution_count": 2,
   "metadata": {},
   "outputs": [],
   "source": [
    "df = pd.read_csv(\"machine.data\",header=None)"
   ]
  },
  {
   "cell_type": "code",
   "execution_count": 3,
   "metadata": {},
   "outputs": [],
   "source": [
    "X = MinMaxScaler().fit(df[[2,3,4,5,6,7,8]]).transform(df[[2,3,4,5,6,7,8]])\n",
    "#Y = MinMaxScaler().fit_transform(df[[9]])\n",
    "Y = df[[9]].values"
   ]
  },
  {
   "cell_type": "code",
   "execution_count": 4,
   "metadata": {},
   "outputs": [],
   "source": [
    "x_train, x_test, y_train, y_test = train_test_split(X,Y,test_size=0.33,random_state=42)\n",
    "y_train = y_train.ravel()\n",
    "y_test = y_test.ravel()"
   ]
  },
  {
   "cell_type": "markdown",
   "metadata": {},
   "source": [
    "## Regresion Lineal"
   ]
  },
  {
   "cell_type": "code",
   "execution_count": 5,
   "metadata": {},
   "outputs": [
    {
     "name": "stdout",
     "output_type": "stream",
     "text": [
      "Aciertos 29\n",
      "Tasa acierto 0.420290\n"
     ]
    }
   ],
   "source": [
    "from sklearn.linear_model import LinearRegression\n",
    "\n",
    "reg = LinearRegression()\n",
    "reg.fit(x_train,y_train)\n",
    "y_predict = reg.predict(x_test)\n",
    "\n",
    "\n",
    "aciertos = np.sum(np.abs(y_predict - y_test) < 0.15*y_test)\n",
    "print(\"Aciertos %d\" % aciertos)\n",
    "print(\"Tasa acierto %f\" % (aciertos/y_test.shape[0]))"
   ]
  },
  {
   "cell_type": "markdown",
   "metadata": {},
   "source": [
    "## ADALINE\n"
   ]
  },
  {
   "cell_type": "code",
   "execution_count": 6,
   "metadata": {},
   "outputs": [
    {
     "name": "stdout",
     "output_type": "stream",
     "text": [
      "Aciertos 10\n",
      "Tasa acierto 0.144928\n"
     ]
    }
   ],
   "source": [
    "from sklearn.neural_network import MLPRegressor\n",
    "\n",
    "reg = MLPRegressor(hidden_layer_sizes=[],solver=\"sgd\",alpha=0.1,batch_size=1,max_iter=5000,momentum=0,activation=\"identity\")\n",
    "reg.fit(x_train,y_train)\n",
    "y_predict = reg.predict(x_test)\n",
    "table = np.abs(y_predict - y_test) < 0.15*y_test\n",
    "aciertos = np.sum(table)\n",
    "print(\"Aciertos %d\" % aciertos)\n",
    "tasa = aciertos / y_test.shape[0]\n",
    "print(\"Tasa acierto %f\" % tasa)\n",
    "\n"
   ]
  },
  {
   "cell_type": "markdown",
   "metadata": {},
   "source": [
    "## Perceptrón Multicapa"
   ]
  },
  {
   "cell_type": "code",
   "execution_count": 7,
   "metadata": {},
   "outputs": [
    {
     "name": "stdout",
     "output_type": "stream",
     "text": [
      "Iteration 1, loss = 3628.94493857\n",
      "Iteration 2, loss = 868.13278902\n",
      "Iteration 3, loss = 635.96352206\n",
      "Iteration 4, loss = 508.45223942\n",
      "Iteration 5, loss = 604.85629000\n",
      "Iteration 6, loss = 457.00852655\n",
      "Iteration 7, loss = 467.38635763\n",
      "Iteration 8, loss = 544.73160585\n",
      "Iteration 9, loss = 526.97373647\n",
      "Training loss did not improve more than tol=0.000100 for two consecutive epochs. Stopping.\n",
      "Aciertos 29\n",
      "Tasa acierto 0.420290\n"
     ]
    }
   ],
   "source": [
    "reg = MLPRegressor(hidden_layer_sizes=(10),solver=\"sgd\",alpha=0.1,batch_size=1,max_iter=5000,verbose=True,activation=\"identity\",momentum=0)\n",
    "reg.fit(x_train,y_train)\n",
    "y_predict = reg.predict(x_test)\n",
    "table = np.abs(y_predict - y_test) < 0.15*y_test\n",
    "aciertos = np.sum(table)\n",
    "print(\"Aciertos %d\" % aciertos)\n",
    "tasa = aciertos / y_test.shape[0]\n",
    "print(\"Tasa acierto %f\" % tasa)"
   ]
  },
  {
   "cell_type": "code",
   "execution_count": 8,
   "metadata": {},
   "outputs": [
    {
     "name": "stdout",
     "output_type": "stream",
     "text": [
      "Iteration 1, loss = 4035.65588112\n",
      "Iteration 2, loss = 989.28455844\n",
      "Iteration 3, loss = 783.49124228\n",
      "Iteration 4, loss = 616.56089435\n",
      "Iteration 5, loss = 536.25721508\n",
      "Iteration 6, loss = 506.94660138\n",
      "Iteration 7, loss = 509.22750051\n",
      "Iteration 8, loss = 453.02707462\n",
      "Iteration 9, loss = 356.57293953\n",
      "Iteration 10, loss = 599.51305248\n",
      "Iteration 11, loss = 541.44983947\n",
      "Iteration 12, loss = 477.29677017\n",
      "Training loss did not improve more than tol=0.000100 for two consecutive epochs. Stopping.\n",
      "Aciertos 34\n",
      "Tasa acierto 0.492754\n"
     ]
    }
   ],
   "source": [
    "reg = MLPRegressor(hidden_layer_sizes=(15),solver=\"sgd\",alpha=0.1,batch_size=1,max_iter=5000,verbose=True,activation=\"identity\",momentum=0)\n",
    "reg.fit(x_train,y_train)\n",
    "y_predict = reg.predict(x_test)\n",
    "table = np.abs(y_predict - y_test) < 0.15*y_test\n",
    "aciertos = np.sum(table)\n",
    "print(\"Aciertos %d\" % aciertos)\n",
    "tasa = aciertos / y_test.shape[0]\n",
    "print(\"Tasa acierto %f\" % tasa)"
   ]
  },
  {
   "cell_type": "code",
   "execution_count": 9,
   "metadata": {},
   "outputs": [
    {
     "name": "stdout",
     "output_type": "stream",
     "text": [
      "Iteration 1, loss = 4026.74313652\n",
      "Iteration 2, loss = 864.11373900\n",
      "Iteration 3, loss = 589.91919147\n",
      "Iteration 4, loss = 619.95222022\n",
      "Iteration 5, loss = 560.03208979\n",
      "Iteration 6, loss = 667.46554605\n",
      "Iteration 7, loss = 586.29667161\n",
      "Iteration 8, loss = 595.69015207\n",
      "Training loss did not improve more than tol=0.000100 for two consecutive epochs. Stopping.\n",
      "Aciertos 20\n",
      "Tasa acierto 0.289855\n"
     ]
    }
   ],
   "source": [
    "reg = MLPRegressor(hidden_layer_sizes=(20),solver=\"sgd\",batch_size=1,alpha=0.1,max_iter=5000,verbose=True,activation=\"identity\",momentum=0)\n",
    "reg.fit(x_train,y_train)\n",
    "y_predict = reg.predict(x_test)\n",
    "table = np.abs(y_predict - y_test) < 0.15*y_test\n",
    "aciertos = np.sum(table)\n",
    "print(\"Aciertos %d\" % aciertos)\n",
    "tasa = aciertos / y_test.shape[0]\n",
    "print(\"Tasa acierto %f\" % tasa)"
   ]
  },
  {
   "cell_type": "code",
   "execution_count": 10,
   "metadata": {},
   "outputs": [
    {
     "name": "stdout",
     "output_type": "stream",
     "text": [
      "Iteration 1, loss = 3907.90576887\n",
      "Iteration 2, loss = 917.22330464\n",
      "Iteration 3, loss = 550.56191810\n",
      "Iteration 4, loss = 837.24192477\n",
      "Iteration 5, loss = 646.38451949\n",
      "Iteration 6, loss = 579.98079494\n",
      "Training loss did not improve more than tol=0.000100 for two consecutive epochs. Stopping.\n",
      "Aciertos 23\n",
      "Tasa acierto 0.333333\n"
     ]
    }
   ],
   "source": [
    "reg = MLPRegressor(hidden_layer_sizes=(25),solver=\"sgd\",batch_size=1,alpha=0.1,max_iter=5000,verbose=True,activation=\"identity\",momentum=0)\n",
    "reg.fit(x_train,y_train)\n",
    "y_predict = reg.predict(x_test)\n",
    "table = np.abs(y_predict - y_test) < 0.15*y_test\n",
    "aciertos = np.sum(table)\n",
    "print(\"Aciertos %d\" % aciertos)\n",
    "tasa = aciertos / y_test.shape[0]\n",
    "print(\"Tasa acierto %f\" % tasa)"
   ]
  },
  {
   "cell_type": "markdown",
   "metadata": {},
   "source": [
    "|Regresión lineal|ADALINE|MLP(10)|MLP(15)|MLP(20)|MLP(25)|\n",
    "|----------------|-------|-------|-------|-------|-------|\n",
    "|0.4202|0.1449|0.5072|0.4927|0.2898|0.3333|"
   ]
  },
  {
   "cell_type": "code",
   "execution_count": 12,
   "metadata": {},
   "outputs": [
    {
     "ename": "SyntaxError",
     "evalue": "positional argument follows keyword argument (<ipython-input-12-db0becdf90a7>, line 5)",
     "output_type": "error",
     "traceback": [
      "\u001b[0;36m  File \u001b[0;32m\"<ipython-input-12-db0becdf90a7>\"\u001b[0;36m, line \u001b[0;32m5\u001b[0m\n\u001b[0;31m    regresion_logistica = LogisticRegression(solver='lbfgs',multi_class='multinominal',...)\u001b[0m\n\u001b[0m                                                                                      ^\u001b[0m\n\u001b[0;31mSyntaxError\u001b[0m\u001b[0;31m:\u001b[0m positional argument follows keyword argument\n"
     ]
    }
   ],
   "source": [
    "# Reg Logistica\n",
    "aciertos = 0\n",
    "k = 0\n",
    "for train_index, test_index in skf.split(X,Y):\n",
    "    regresion_logistica = LogisticRegression(solver='lbfgs',multi_class='multinominal',...)\n",
    "    y_p = regresion_logistica.predict(X[test_index])\n",
    "    score = accuracy_score(Y[test_index],y_p)\n",
    "    aciertos += score\n",
    "    k +=1\n",
    "print(\"Tasa de aciertos =\", aciertos/k)"
   ]
  }
 ],
 "metadata": {
  "kernelspec": {
   "display_name": "Python 3",
   "language": "python",
   "name": "python3"
  },
  "language_info": {
   "codemirror_mode": {
    "name": "ipython",
    "version": 3
   },
   "file_extension": ".py",
   "mimetype": "text/x-python",
   "name": "python",
   "nbconvert_exporter": "python",
   "pygments_lexer": "ipython3",
   "version": "3.6.4"
  }
 },
 "nbformat": 4,
 "nbformat_minor": 2
}
