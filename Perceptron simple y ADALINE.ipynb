{
 "cells": [
  {
   "cell_type": "markdown",
   "metadata": {},
   "source": [
    "# Perceptrón simple\n",
    "\n",
    "Clase del perceptrón simple"
   ]
  },
  {
   "cell_type": "code",
   "execution_count": 72,
   "metadata": {},
   "outputs": [],
   "source": [
    "import numpy as np\n",
    "from sklearn.preprocessing import MinMaxScaler\n",
    "\n",
    "class PerceptronSimple(object):\n",
    "    def __init__(self,n_inputs,pesos=[],bias=0):\n",
    "        self.bias = bias\n",
    "        if len(pesos) == 0:\n",
    "            self.pesos = np.random.random(n_inputs)\n",
    "            self.pesos -= 0.5\n",
    "        elif len(pesos) == n_inputs:\n",
    "            self.pesos = pesos\n",
    "        else:\n",
    "            raise Exception()\n",
    "            \n",
    "    def predict(self,data):\n",
    "        output = np.zeros(data.shape[0])\n",
    "        for i,sample in enumerate(data):\n",
    "            # Sumatorio de productos\n",
    "            out = 0\n",
    "            for j,inp in enumerate(sample):\n",
    "                out += inp*self.pesos[j]\n",
    "            out += self.bias\n",
    "            # Funcion de activacion\n",
    "            output[i] = np.sign(out)\n",
    "        return output\n",
    "    \n",
    "    def get_params(self):\n",
    "        return (self.pesos,self.bias)\n",
    "    \n",
    "    def train(self,x,y):\n",
    "        fail = True\n",
    "        while fail:\n",
    "            print(self.get_params())\n",
    "            fail = False\n",
    "            # EPOCA\n",
    "            output = self.predict(x)\n",
    "            for i in range(x.shape[0]):\n",
    "                if abs(output[i] - y[i,0]) > 0.1:\n",
    "                    for j in range(len(self.pesos)):\n",
    "                        w = y[i,0]*x[i,j]\n",
    "                        self.pesos[j] += w\n",
    "                        self.bias += y[i,0]\n",
    "                    fail = True\n",
    "            \n",
    "    \n",
    "            \n",
    "            \n",
    "        \n",
    "            "
   ]
  },
  {
   "cell_type": "code",
   "execution_count": 81,
   "metadata": {},
   "outputs": [
    {
     "name": "stderr",
     "output_type": "stream",
     "text": [
      "/opt/anaconda3/lib/python3.6/site-packages/sklearn/utils/validation.py:475: DataConversionWarning: Data with input dtype int64 was converted to float64 by MinMaxScaler.\n",
      "  warnings.warn(msg, DataConversionWarning)\n"
     ]
    }
   ],
   "source": [
    "original = np.array([\n",
    "    [1,1,1],\n",
    "    [2,1,1],\n",
    "    [2,2,1],\n",
    "    [1,3,1],\n",
    "    [-1,1,-1],\n",
    "    [0,2,-1],\n",
    "    [-1,3,-1]\n",
    "])\n",
    "data = np.zeros(original.shape)\n",
    "data[:,[0,1]] = MinMaxScaler().fit(original[:,[0,1]]).transform(original[:,[0,1]])\n",
    "data[:,[2]] = original[:,[2]]"
   ]
  },
  {
   "cell_type": "code",
   "execution_count": 82,
   "metadata": {},
   "outputs": [],
   "source": [
    "p = PerceptronSimple(2,[0.75,1],-3)"
   ]
  },
  {
   "cell_type": "code",
   "execution_count": 83,
   "metadata": {},
   "outputs": [
    {
     "name": "stdout",
     "output_type": "stream",
     "text": [
      "([0.75, 1], -3)\n",
      "([4.083333333333333, 2.5], 5.0)\n",
      "([3.7499999999999996, 1.0], -1.0)\n",
      "([3.416666666666666, -0.5], -5.0)\n",
      "([6.75, 1.0], 3.0)\n",
      "([6.416666666666667, -0.5], -3.0)\n"
     ]
    }
   ],
   "source": [
    "p.train(data[:,[0,1]],data[:,[2]])"
   ]
  },
  {
   "cell_type": "code",
   "execution_count": 84,
   "metadata": {},
   "outputs": [
    {
     "data": {
      "text/plain": [
       "array([ 1.,  1.,  1.,  1., -1., -1., -1.])"
      ]
     },
     "execution_count": 84,
     "metadata": {},
     "output_type": "execute_result"
    }
   ],
   "source": [
    "p.predict(data[:,[0,1]])"
   ]
  },
  {
   "cell_type": "markdown",
   "metadata": {},
   "source": [
    "# Adaline\n",
    "[Dataset computer hardware](http://archive.ics.uci.edu/ml/datasets/Computer+Hardware)\n"
   ]
  },
  {
   "cell_type": "code",
   "execution_count": null,
   "metadata": {},
   "outputs": [],
   "source": []
  }
 ],
 "metadata": {
  "kernelspec": {
   "display_name": "Python 3",
   "language": "python",
   "name": "python3"
  },
  "language_info": {
   "codemirror_mode": {
    "name": "ipython",
    "version": 3
   },
   "file_extension": ".py",
   "mimetype": "text/x-python",
   "name": "python",
   "nbconvert_exporter": "python",
   "pygments_lexer": "ipython3",
   "version": "3.6.4"
  }
 },
 "nbformat": 4,
 "nbformat_minor": 2
}
